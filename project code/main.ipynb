{
 "cells": [
  {
   "cell_type": "markdown",
   "metadata": {},
   "source": [
    "### imports (ML models)"
   ]
  },
  {
   "cell_type": "code",
   "execution_count": null,
   "metadata": {},
   "outputs": [],
   "source": [
    "print ('Submitted By')\n",
    "print ('UBITname      = karanman')\n",
    "print ('Person Number = 50290755')"
   ]
  },
  {
   "cell_type": "code",
   "execution_count": 1,
   "metadata": {
    "ExecuteTime": {
     "end_time": "2018-11-19T19:07:47.847580Z",
     "start_time": "2018-11-19T19:07:45.362584Z"
    }
   },
   "outputs": [
    {
     "name": "stderr",
     "output_type": "stream",
     "text": [
      "C:\\ProgramData\\Anaconda3\\lib\\site-packages\\sklearn\\ensemble\\weight_boosting.py:29: DeprecationWarning: numpy.core.umath_tests is an internal NumPy module and should not be imported. It will be removed in a future NumPy release.\n",
      "  from numpy.core.umath_tests import inner1d\n"
     ]
    }
   ],
   "source": [
    "# Importing Packages\n",
    "import pickle\n",
    "import gzip\n",
    "import pandas as pd\n",
    "import numpy as np \n",
    "import os\n",
    "import cv2\n",
    "from sklearn.ensemble import RandomForestClassifier\n",
    "from sklearn.linear_model import LogisticRegression\n",
    "from sklearn.svm import SVC\n",
    "from time import time\n",
    "from sklearn.decomposition import PCA\n",
    "from sklearn.model_selection import train_test_split\n",
    "from sklearn.preprocessing import StandardScaler\n",
    "from sklearn.metrics import accuracy_score, confusion_matrix\n",
    "from sklearn.model_selection import GridSearchCV\n",
    "from sklearn.model_selection import PredefinedSplit\n",
    "import matplotlib.pyplot as plt\n",
    "import itertools\n",
    "\n",
    "\n",
    "%matplotlib inline"
   ]
  },
  {
   "cell_type": "markdown",
   "metadata": {},
   "source": [
    "### read mnist data"
   ]
  },
  {
   "cell_type": "code",
   "execution_count": 2,
   "metadata": {
    "ExecuteTime": {
     "end_time": "2018-11-19T19:07:48.198738Z",
     "start_time": "2018-11-19T19:07:47.850531Z"
    }
   },
   "outputs": [],
   "source": [
    "#load mnist dataset\n",
    "def one_hot(_y):\n",
    "    '''\n",
    "    given a list of numbers,\n",
    "    returns a one hot encoded version of the numbers,\n",
    "        example:\n",
    "            one_hot(np.array([0,1,2,3,4,5,6,7,8,9]))\n",
    "        returns:\n",
    "            array([[1., 0., 0., 0., 0., 0., 0., 0., 0., 0.],\n",
    "                   [0., 1., 0., 0., 0., 0., 0., 0., 0., 0.],\n",
    "                   [0., 0., 1., 0., 0., 0., 0., 0., 0., 0.],\n",
    "                   [0., 0., 0., 1., 0., 0., 0., 0., 0., 0.],\n",
    "                   [0., 0., 0., 0., 1., 0., 0., 0., 0., 0.],\n",
    "                   [0., 0., 0., 0., 0., 1., 0., 0., 0., 0.],\n",
    "                   [0., 0., 0., 0., 0., 0., 1., 0., 0., 0.],\n",
    "                   [0., 0., 0., 0., 0., 0., 0., 1., 0., 0.],\n",
    "                   [0., 0., 0., 0., 0., 0., 0., 0., 1., 0.],\n",
    "                   [0., 0., 0., 0., 0., 0., 0., 0., 0., 1.]])\n",
    "    '''\n",
    "    y = np.zeros((_y.shape[0], 10))\n",
    "    y[np.arange(_y.shape[0]), _y] = 1\n",
    "    \n",
    "    return y\n",
    "\n",
    "# \n",
    "filename = 'mnist.pkl.gz'\n",
    "f = gzip.open(filename, 'rb')\n",
    "training_data, validation_data, test_data = pickle.load(f, encoding='latin1')\n",
    "f.close()\n",
    "\n",
    "X_train_r = np.asarray(training_data[0])\n",
    "_Y_train = np.asarray(training_data[1])\n",
    "y_train = one_hot(_Y_train)\n",
    "\n",
    "\n",
    "X_val_r = np.asarray(validation_data[0])\n",
    "_y_val = np.asarray(validation_data[1])\n",
    "y_val = one_hot(_y_val)\n",
    "\n",
    "\n",
    "X_test_r = np.asarray(test_data[0])\n",
    "_y_test = np.asarray(test_data[1])\n",
    "y_test = one_hot(_y_test)\n",
    "\n"
   ]
  },
  {
   "cell_type": "markdown",
   "metadata": {},
   "source": [
    "### data preprocessing"
   ]
  },
  {
   "cell_type": "code",
   "execution_count": 3,
   "metadata": {},
   "outputs": [],
   "source": [
    "X_mnist = np.concatenate([X_train_r, X_val_r, X_test_r])\n",
    "y_mnist = np.concatenate([y_train, y_val, y_test])"
   ]
  },
  {
   "cell_type": "code",
   "execution_count": 4,
   "metadata": {
    "ExecuteTime": {
     "end_time": "2018-11-19T19:07:50.751731Z",
     "start_time": "2018-11-19T19:07:48.253908Z"
    }
   },
   "outputs": [],
   "source": [
    "# apply standard scaler\n",
    "def standard_scaler(inner_x):\n",
    "    return StandardScaler().fit_transform(inner_x)\n",
    "\n",
    "X_scaled_mnist = standard_scaler(X_mnist)"
   ]
  },
  {
   "cell_type": "code",
   "execution_count": 5,
   "metadata": {
    "ExecuteTime": {
     "end_time": "2018-11-19T19:07:50.763425Z",
     "start_time": "2018-11-19T19:07:50.754757Z"
    }
   },
   "outputs": [],
   "source": [
    "# separate the train and test sets\n",
    "X_train_mnist = X_scaled_mnist[:50000]\n",
    "X_val_mnist = X_scaled_mnist[50000:60000]\n",
    "X_test_mnist = X_scaled_mnist[60000:]\n",
    "\n",
    "y_train_mnist = y_mnist[:50000]\n",
    "y_val_mnist = y_mnist[50000:60000]\n",
    "y_test_mnist = y_mnist[60000:]\n",
    "\n",
    "# get the label with the highest predicted prrobability\n",
    "y_train_mnist = y_train_mnist.argmax(axis=1)\n",
    "y_val_mnist = y_val_mnist.argmax(axis=1)\n",
    "y_test_mnist = y_test_mnist.argmax(axis=1)"
   ]
  },
  {
   "cell_type": "code",
   "execution_count": 6,
   "metadata": {
    "ExecuteTime": {
     "end_time": "2018-11-19T19:07:50.771731Z",
     "start_time": "2018-11-19T19:07:50.766621Z"
    }
   },
   "outputs": [
    {
     "name": "stdout",
     "output_type": "stream",
     "text": [
      "X_train_mnist shape : (50000, 784)\n",
      "X_val_mnist shape : (10000, 784)\n",
      "X_test_mnist shape : (10000, 784)\n"
     ]
    }
   ],
   "source": [
    "# print out the datasets' dimensions\n",
    "print('X_train_mnist shape : {}'.format(X_train_mnist.shape))\n",
    "print('X_val_mnist shape : {}'.format(X_val_mnist.shape))\n",
    "print('X_test_mnist shape : {}'.format(X_test_mnist.shape))"
   ]
  },
  {
   "cell_type": "code",
   "execution_count": 7,
   "metadata": {
    "ExecuteTime": {
     "end_time": "2018-11-19T19:08:23.619082Z",
     "start_time": "2018-11-19T19:08:19.806224Z"
    }
   },
   "outputs": [],
   "source": [
    "# USPS dataset\n",
    "\n",
    "# path to USPS dataset\n",
    "path_to_data = \"./USPSdata/Numerals/\"\n",
    "\n",
    "# resize to MNIST scale function\n",
    "def resize_and_scale(img, size, scale):\n",
    "    img = cv2.resize(img, size)\n",
    "    return 1 - np.array(img, \"float32\")/scale\n",
    "\n",
    "# resize all images\n",
    "img_list = os.listdir(path_to_data)\n",
    "sz = (28,28)\n",
    "validation_usps = []\n",
    "validation_usps_label = []\n",
    "for i in range(10):\n",
    "    label_data = path_to_data + str(i) + '/'\n",
    "    img_list = os.listdir(label_data)\n",
    "    for name in img_list:\n",
    "        if '.png' in name:\n",
    "            img = cv2.imread(label_data+name)\n",
    "            img = cv2.cvtColor(img, cv2.COLOR_BGR2GRAY)\n",
    "            resized_img = resize_and_scale(img, sz, 255)\n",
    "            validation_usps.append(resized_img.flatten())\n",
    "            validation_usps_label.append(i)"
   ]
  },
  {
   "cell_type": "code",
   "execution_count": 8,
   "metadata": {
    "ExecuteTime": {
     "start_time": "2018-11-19T19:09:45.975Z"
    }
   },
   "outputs": [
    {
     "name": "stdout",
     "output_type": "stream",
     "text": [
      "(19996, 784)\n",
      "(19996,)\n"
     ]
    }
   ],
   "source": [
    "# convert to numpy array and even batch sizes\n",
    "validation_usps = np.array(validation_usps)\n",
    "validation_usps = validation_usps[:-3]\n",
    "print(validation_usps.shape)\n",
    "validation_usps_label= np.array(validation_usps_label)\n",
    "validation_usps_label = validation_usps_label[:-3]\n",
    "print(validation_usps_label.shape)\n",
    "validation_usps_label_one_hot = one_hot(validation_usps_label)"
   ]
  },
  {
   "cell_type": "markdown",
   "metadata": {},
   "source": [
    "### confusion matrix helper function"
   ]
  },
  {
   "cell_type": "code",
   "execution_count": 9,
   "metadata": {
    "ExecuteTime": {
     "end_time": "2018-11-19T19:07:51.280546Z",
     "start_time": "2018-11-19T19:09:09.933Z"
    }
   },
   "outputs": [],
   "source": [
    "# confusion matrix method\n",
    "def plot_confusion_matrix(cm, classes, cm_path, model='Random Forest',\n",
    "                          normalize=False,\n",
    "                          title='Confusion matrix',\n",
    "                          cmap=plt.cm.Blues):\n",
    "    \"\"\"\n",
    "    This function prints and plots the confusion matrix.\n",
    "    Normalization can be applied by setting `normalize=True`.\n",
    "    \"\"\"\n",
    "    \n",
    "    if normalize:\n",
    "        cm = cm.astype('float') / cm.sum(axis=1)[:, np.newaxis]\n",
    "        print(\"{} Normalized confusion matrix\".format(model))\n",
    "    else:\n",
    "        print('{} Confusion matrix'.format(model))\n",
    "\n",
    "    plt.imshow(cm, interpolation='nearest', cmap=cmap)\n",
    "    plt.title(title)\n",
    "    plt.colorbar()\n",
    "    tick_marks = np.arange(len(classes))\n",
    "    plt.xticks(tick_marks, classes, rotation=45)\n",
    "    plt.yticks(tick_marks, classes)\n",
    "\n",
    "    fmt = '.2f' if normalize else 'd'\n",
    "    thresh = cm.max() / 2.\n",
    "    for i, j in itertools.product(range(cm.shape[0]), range(cm.shape[1])):\n",
    "        plt.text(j, i, format(cm[i, j], fmt),\n",
    "                 horizontalalignment=\"center\",\n",
    "                 color=\"white\" if cm[i, j] > thresh else \"black\")\n",
    "\n",
    "    plt.tight_layout()\n",
    "    plt.ylabel('True label')\n",
    "    plt.xlabel('Predicted label')\n",
    "\n",
    "    plt.figure()\n",
    "\n"
   ]
  },
  {
   "cell_type": "markdown",
   "metadata": {},
   "source": [
    "### Logistic Regression"
   ]
  },
  {
   "cell_type": "code",
   "execution_count": 10,
   "metadata": {},
   "outputs": [],
   "source": [
    "def logistic_regression(dataset):\n",
    "    X_train, y_train, X_val, y_val, X_test, y_test, X_usps, y_usps = dataset\n",
    "\n",
    "    def softmax(x):\n",
    "        e = np.exp(x - np.max(x))  # this prevent overflow\n",
    "        if e.ndim == 1:\n",
    "            return e / np.sum(e, axis=0)\n",
    "        else:  \n",
    "            return e / np.array([np.sum(e, axis=1)]).T  # ndim = 2\n",
    "\n",
    "\n",
    "    class LogisticRegression(object):\n",
    "        def __init__(self, x, y):\n",
    "            self.x = x\n",
    "            self.y = y\n",
    "            self.W = np.zeros((x.shape[1], y.shape[1]))  # initialize Weights 0\n",
    "            self.b = np.zeros(y.shape[1])          # initialize bias 0\n",
    "        \n",
    "        def fit(self, lr=0.1):\n",
    "\n",
    "            h = softmax(np.dot(self.x, self.W) + self.b)\n",
    "\n",
    "            d_y = self.y - h\n",
    "            \n",
    "            self.W += lr * np.dot(self.x.T, d_y)\n",
    "            self.b += lr * np.mean(d_y, axis=0)\n",
    "\n",
    "        def loss(self):\n",
    "            h = softmax(np.dot(self.x, self.W) + self.b)\n",
    "            y = self.y\n",
    "            \n",
    "            return (-y * np.log(h) - (1 - y) * np.log(1 - h)).mean()\n",
    "        \n",
    "        def predict(self, x):\n",
    "            return softmax(np.dot(x, self.W) + self.b)\n",
    "\n",
    "\n",
    "    ## hyper-parameters\n",
    "    ### learning rates\n",
    "    lrs = [0.01, 0.001]\n",
    "    ### number of iterations\n",
    "    n_iters = [5, 20, 50, 100, 250]\n",
    "    \n",
    "    ## limited grid of hyper-parameters\n",
    "    ### learning rates\n",
    "    lrs = [0.01, 0.001]\n",
    "    ### number of iterations\n",
    "    n_iters = [5,20,50,100,250]\n",
    "\n",
    "\n",
    "    def train_logr_model(lr, n_iter, usps=False):\n",
    "\n",
    "\n",
    "        print('\\n--Hyperparameters--')\n",
    "        print('learning rate : {}'.format(lr))\n",
    "        print('no of iterations : {}'.format(n_iter))\n",
    "        \n",
    "        # standardize by dividing with 255\n",
    "        model = LogisticRegression(X_train/255, y_train)\n",
    "        for i in range(n_iter):\n",
    "            model.fit(lr=lr)\n",
    "\n",
    "        print('loss : {}'.format(model.loss()))\n",
    "        \n",
    "        train_preds = model.predict(X_train)\n",
    "        acc_train = accuracy_score(y_train, (train_preds>0.5).astype(int))\n",
    "        \n",
    "        val_preds = model.predict(X_val)\n",
    "        acc_val = accuracy_score(y_val, (val_preds>0.5).astype(int))\n",
    "        \n",
    "        test_preds = model.predict(X_test)\n",
    "        acc_test = accuracy_score(y_test, (test_preds>0.5).astype(int))\n",
    "        \n",
    "        print('training accuracy : {}'.format(acc_train))\n",
    "        print('validation accuracy : {}'.format(acc_val))\n",
    "        print('test accuracy : {}'.format(acc_test))\n",
    "        if usps:\n",
    "            usps_preds = model.predict(X_usps)\n",
    "            acc_usps = accuracy_score(y_usps, (usps_preds>0.5).astype(int))\n",
    "            return (acc_train, acc_val, acc_test, acc_usps), (test_preds, usps_preds)\n",
    "        \n",
    "        return (acc_train, acc_val, acc_test), val_preds\n",
    "\n",
    "\n",
    "    scores_df = pd.DataFrame()\n",
    "    for lr in lrs:\n",
    "        for n_iter in n_iters:\n",
    "            (acc_train, acc_val, acc_test), val_preds = train_logr_model(lr, n_iter)\n",
    "            scores = pd.DataFrame([acc_val], index=['acc'], columns=[(lr, n_iter)]).T\n",
    "            scores_df = pd.concat([scores_df, scores])\n",
    "\n",
    "    best_params = scores_df['acc'].idxmax()\n",
    "    lr = best_params[0]\n",
    "    n_iter = best_params[1]\n",
    "\n",
    "    print('\\n--Training with best hyper-parameters--\\n')\n",
    "\n",
    "    (acc_train, acc_val, acc_test, acc_usps), (test_preds, usps_preds) = train_logr_model(lr, n_iter, usps=True)\n",
    "\n",
    "    print('training accuracy : {}'.format(acc_train))\n",
    "    print('validation accuracy : {}'.format(acc_val))\n",
    "    print('test accuracy : {}'.format(acc_test))\n",
    "    print('usps accuracy : {}'.format(acc_usps))\n",
    "    \n",
    "    return test_preds, usps_preds\n",
    "    "
   ]
  },
  {
   "cell_type": "code",
   "execution_count": 11,
   "metadata": {},
   "outputs": [
    {
     "name": "stdout",
     "output_type": "stream",
     "text": [
      "\n",
      "--Hyperparameters--\n",
      "learning rate : 0.01\n",
      "no of iterations : 5\n",
      "loss : 0.3205976055871282\n",
      "training accuracy : 0.66776\n",
      "validation accuracy : 0.6977\n",
      "test accuracy : 0.6783\n",
      "\n",
      "--Hyperparameters--\n",
      "learning rate : 0.01\n",
      "no of iterations : 20\n",
      "loss : 0.3078842653639733\n",
      "training accuracy : 0.70818\n",
      "validation accuracy : 0.7356\n",
      "test accuracy : 0.7166\n",
      "\n",
      "--Hyperparameters--\n",
      "learning rate : 0.01\n",
      "no of iterations : 50\n",
      "loss : 0.2851105304115011\n",
      "training accuracy : 0.73728\n",
      "validation accuracy : 0.7593\n",
      "test accuracy : 0.7475\n",
      "\n",
      "--Hyperparameters--\n",
      "learning rate : 0.01\n",
      "no of iterations : 100\n",
      "loss : 0.253588326114912\n",
      "training accuracy : 0.76176\n",
      "validation accuracy : 0.7809\n",
      "test accuracy : 0.7749\n",
      "\n",
      "--Hyperparameters--\n",
      "learning rate : 0.01\n",
      "no of iterations : 250\n",
      "loss : 0.19344082606259436\n"
     ]
    },
    {
     "name": "stderr",
     "output_type": "stream",
     "text": [
      "C:\\ProgramData\\Anaconda3\\lib\\site-packages\\ipykernel_launcher.py:9: RuntimeWarning: invalid value encountered in true_divide\n",
      "  if __name__ == '__main__':\n",
      "C:\\ProgramData\\Anaconda3\\lib\\site-packages\\ipykernel_launcher.py:66: RuntimeWarning: invalid value encountered in greater\n",
      "C:\\ProgramData\\Anaconda3\\lib\\site-packages\\ipykernel_launcher.py:69: RuntimeWarning: invalid value encountered in greater\n",
      "C:\\ProgramData\\Anaconda3\\lib\\site-packages\\ipykernel_launcher.py:72: RuntimeWarning: invalid value encountered in greater\n"
     ]
    },
    {
     "name": "stdout",
     "output_type": "stream",
     "text": [
      "training accuracy : 0.5394\n",
      "validation accuracy : 0.651\n",
      "test accuracy : 0.5924\n",
      "\n",
      "--Hyperparameters--\n",
      "learning rate : 0.001\n",
      "no of iterations : 5\n",
      "loss : 0.32462876703554855\n",
      "training accuracy : 0.07194\n",
      "validation accuracy : 0.0737\n",
      "test accuracy : 0.0697\n",
      "\n",
      "--Hyperparameters--\n",
      "learning rate : 0.001\n",
      "no of iterations : 20\n",
      "loss : 0.32327484852527955\n",
      "training accuracy : 0.58054\n",
      "validation accuracy : 0.6141\n",
      "test accuracy : 0.5981\n",
      "\n",
      "--Hyperparameters--\n",
      "learning rate : 0.001\n",
      "no of iterations : 50\n",
      "loss : 0.3206044943895107\n",
      "training accuracy : 0.66982\n",
      "validation accuracy : 0.6998\n",
      "test accuracy : 0.6798\n",
      "\n",
      "--Hyperparameters--\n",
      "learning rate : 0.001\n",
      "no of iterations : 100\n",
      "loss : 0.31625694034862106\n",
      "training accuracy : 0.68924\n",
      "validation accuracy : 0.7206\n",
      "test accuracy : 0.6987\n",
      "\n",
      "--Hyperparameters--\n",
      "learning rate : 0.001\n",
      "no of iterations : 250\n",
      "loss : 0.3038856067967561\n",
      "training accuracy : 0.71624\n",
      "validation accuracy : 0.7411\n",
      "test accuracy : 0.7256\n",
      "\n",
      "--Training with best hyper-parameters--\n",
      "\n",
      "\n",
      "--Hyperparameters--\n",
      "learning rate : 0.01\n",
      "no of iterations : 100\n",
      "loss : 0.253588326114912\n",
      "training accuracy : 0.76176\n",
      "validation accuracy : 0.7809\n",
      "test accuracy : 0.7749\n",
      "training accuracy : 0.76176\n",
      "validation accuracy : 0.7809\n",
      "test accuracy : 0.7749\n",
      "usps accuracy : 0.27770554110822165\n"
     ]
    }
   ],
   "source": [
    "dataset = (X_train_r, y_train, X_val_r, y_val, X_test_r, y_test, validation_usps, validation_usps_label_one_hot)\n",
    "y_preds_logr_mnist, y_preds_logr_usps = logistic_regression(dataset)"
   ]
  },
  {
   "cell_type": "markdown",
   "metadata": {},
   "source": [
    "## convert one-hot encoded values to numbers"
   ]
  },
  {
   "cell_type": "code",
   "execution_count": 12,
   "metadata": {},
   "outputs": [
    {
     "name": "stdout",
     "output_type": "stream",
     "text": [
      "(10000, 10)\n",
      "(10000,)\n"
     ]
    }
   ],
   "source": [
    "print(y_preds_logr_mnist.shape)\n",
    "y_preds_logr_mnist = y_preds_logr_mnist.argmax(axis=1)\n",
    "print(y_preds_logr_mnist.shape)"
   ]
  },
  {
   "cell_type": "code",
   "execution_count": 13,
   "metadata": {},
   "outputs": [
    {
     "name": "stdout",
     "output_type": "stream",
     "text": [
      "(19996, 10)\n",
      "(19996,)\n"
     ]
    }
   ],
   "source": [
    "print(y_preds_logr_usps.shape)\n",
    "y_preds_logr_usps = y_preds_logr_usps.argmax(axis=1)\n",
    "print(y_preds_logr_usps.shape)"
   ]
  },
  {
   "cell_type": "code",
   "execution_count": 14,
   "metadata": {},
   "outputs": [],
   "source": [
    "# get unique labels\n",
    "classes = np.unique(y_test_mnist)\n",
    "\n",
    "# compute confusion matrix for mnist\n",
    "cm_mnist = confusion_matrix(y_test_mnist, y_preds_logr_mnist, labels=classes)\n",
    "\n",
    "# compute confusion matrix for usps\n",
    "cm_usps = confusion_matrix(validation_usps_label, y_preds_logr_usps, labels=classes)"
   ]
  },
  {
   "cell_type": "code",
   "execution_count": 15,
   "metadata": {},
   "outputs": [
    {
     "name": "stdout",
     "output_type": "stream",
     "text": [
      "Random Forest Confusion matrix\n"
     ]
    },
    {
     "data": {
      "image/png": "[encoded data removed]",
      "text/plain": [
       "<Figure size 432x288 with 2 Axes>"
      ]
     },
     "metadata": {
      "needs_background": "light"
     },
     "output_type": "display_data"
    },
    {
     "data": {
      "text/plain": [
       "<Figure size 432x288 with 0 Axes>"
      ]
     },
     "metadata": {},
     "output_type": "display_data"
    }
   ],
   "source": [
    "# plot mnist confusion matrix\n",
    "plot_confusion_matrix(cm_mnist, classes, model ='Logistic Regression', cm_path=None)"
   ]
  },
  {
   "cell_type": "code",
   "execution_count": 16,
   "metadata": {},
   "outputs": [
    {
     "name": "stdout",
     "output_type": "stream",
     "text": [
      "Random Forest Confusion matrix\n"
     ]
    },
    {
     "data": {
      "image/png": "[encoded data removed]",
      "text/plain": [
       "<Figure size 432x288 with 2 Axes>"
      ]
     },
     "metadata": {
      "needs_background": "light"
     },
     "output_type": "display_data"
    },
    {
     "data": {
      "text/plain": [
       "<Figure size 432x288 with 0 Axes>"
      ]
     },
     "metadata": {},
     "output_type": "display_data"
    }
   ],
   "source": [
    "# plot usps confusion matrix\n",
    "plot_confusion_matrix(cm_usps, classes, model ='Logistic Regression', cm_path=None)"
   ]
  },
  {
   "cell_type": "markdown",
   "metadata": {},
   "source": [
    "### Random Forest "
   ]
  },
  {
   "cell_type": "code",
   "execution_count": 17,
   "metadata": {
    "ExecuteTime": {
     "end_time": "2018-11-19T19:07:51.281883Z",
     "start_time": "2018-11-19T19:09:09.939Z"
    }
   },
   "outputs": [],
   "source": [
    "# grid of hyperparameters\n",
    "ranf_params = {'n_estimators' :[10, 50, 100],\n",
    "'max_features' :['auto', 'sqrt', 'log2'],\n",
    "'max_depth' :[6, 7, 8, None],\n",
    "'n_jobs' : [-1]}                    "
   ]
  },
  {
   "cell_type": "code",
   "execution_count": 18,
   "metadata": {
    "ExecuteTime": {
     "end_time": "2018-11-19T19:07:51.283060Z",
     "start_time": "2018-11-19T19:09:09.943Z"
    }
   },
   "outputs": [],
   "source": [
    "# # limited grid of hyperparameters\n",
    "# ranf_params = {'n_estimators' :[10, 50],\n",
    "# 'max_features' :['auto'],\n",
    "# 'max_depth' :[None],\n",
    "# 'n_jobs' : [-1]} "
   ]
  },
  {
   "cell_type": "code",
   "execution_count": 19,
   "metadata": {
    "ExecuteTime": {
     "end_time": "2018-11-19T19:07:51.284562Z",
     "start_time": "2018-11-19T19:09:09.947Z"
    }
   },
   "outputs": [],
   "source": [
    "# model hyperparameters\n",
    "ranf_kwarg = {'n_estimators' :10,\n",
    "'max_features' :'auto',\n",
    "'max_depth' :None,\n",
    "'n_jobs' : -1}   "
   ]
  },
  {
   "cell_type": "code",
   "execution_count": 20,
   "metadata": {},
   "outputs": [],
   "source": [
    "# predefined validation data to pass to grid search for hyperparameter tuning\n",
    "ps = PredefinedSplit(test_fold=y_val_mnist)"
   ]
  },
  {
   "cell_type": "code",
   "execution_count": 21,
   "metadata": {
    "ExecuteTime": {
     "end_time": "2018-11-19T19:07:51.285605Z",
     "start_time": "2018-11-19T19:09:09.952Z"
    }
   },
   "outputs": [],
   "source": [
    "# initialize random forest model\n",
    "ranf = RandomForestClassifier()"
   ]
  },
  {
   "cell_type": "code",
   "execution_count": 22,
   "metadata": {
    "ExecuteTime": {
     "end_time": "2018-11-19T19:07:51.286663Z",
     "start_time": "2018-11-19T19:09:09.957Z"
    }
   },
   "outputs": [
    {
     "name": "stdout",
     "output_type": "stream",
     "text": [
      "Fitting 10 folds for each of 36 candidates, totalling 360 fits\n"
     ]
    },
    {
     "name": "stderr",
     "output_type": "stream",
     "text": [
      "[Parallel(n_jobs=-1)]: Done  42 tasks      | elapsed:   51.7s\n",
      "[Parallel(n_jobs=-1)]: Done 192 tasks      | elapsed:  3.4min\n",
      "[Parallel(n_jobs=-1)]: Done 360 out of 360 | elapsed:  7.1min finished\n"
     ]
    },
    {
     "data": {
      "text/plain": [
       "GridSearchCV(cv=PredefinedSplit(test_fold=array([3, 8, ..., 6, 8])),\n",
       "       error_score='raise',\n",
       "       estimator=RandomForestClassifier(bootstrap=True, class_weight=None, criterion='gini',\n",
       "            max_depth=None, max_features='auto', max_leaf_nodes=None,\n",
       "            min_impurity_decrease=0.0, min_impurity_split=None,\n",
       "            min_samples_leaf=1, min_samples_split=2,\n",
       "            min_weight_fraction_leaf=0.0, n_estimators=10, n_jobs=1,\n",
       "            oob_score=False, random_state=None, verbose=0,\n",
       "            warm_start=False),\n",
       "       fit_params=None, iid=True, n_jobs=-1,\n",
       "       param_grid={'n_estimators': [10, 50, 100], 'max_features': ['auto', 'sqrt', 'log2'], 'max_depth': [6, 7, 8, None], 'n_jobs': [-1]},\n",
       "       pre_dispatch='2*n_jobs', refit=True, return_train_score='warn',\n",
       "       scoring='accuracy', verbose=1)"
      ]
     },
     "execution_count": 22,
     "metadata": {},
     "output_type": "execute_result"
    }
   ],
   "source": [
    "# initialize grid search on the grid of hyperparameters\n",
    "gsearch1 = GridSearchCV(estimator=ranf,\n",
    "                        param_grid=ranf_params,\n",
    "                        scoring='accuracy', n_jobs=-1, cv=ps, verbose=1)\n",
    "#\n",
    "# fit the grid search using the training data\n",
    "gsearch1.fit(X_train_mnist, y_train_mnist)\n",
    "\n"
   ]
  },
  {
   "cell_type": "code",
   "execution_count": 23,
   "metadata": {},
   "outputs": [
    {
     "name": "stderr",
     "output_type": "stream",
     "text": [
      "C:\\ProgramData\\Anaconda3\\lib\\site-packages\\sklearn\\utils\\deprecation.py:122: FutureWarning: You are accessing a training score ('split0_train_score'), which will not be available by default any more in 0.21. If you need training scores, please set return_train_score=True\n",
      "  warnings.warn(*warn_args, **warn_kwargs)\n",
      "C:\\ProgramData\\Anaconda3\\lib\\site-packages\\sklearn\\utils\\deprecation.py:122: FutureWarning: You are accessing a training score ('split1_train_score'), which will not be available by default any more in 0.21. If you need training scores, please set return_train_score=True\n",
      "  warnings.warn(*warn_args, **warn_kwargs)\n",
      "C:\\ProgramData\\Anaconda3\\lib\\site-packages\\sklearn\\utils\\deprecation.py:122: FutureWarning: You are accessing a training score ('split2_train_score'), which will not be available by default any more in 0.21. If you need training scores, please set return_train_score=True\n",
      "  warnings.warn(*warn_args, **warn_kwargs)\n",
      "C:\\ProgramData\\Anaconda3\\lib\\site-packages\\sklearn\\utils\\deprecation.py:122: FutureWarning: You are accessing a training score ('split3_train_score'), which will not be available by default any more in 0.21. If you need training scores, please set return_train_score=True\n",
      "  warnings.warn(*warn_args, **warn_kwargs)\n",
      "C:\\ProgramData\\Anaconda3\\lib\\site-packages\\sklearn\\utils\\deprecation.py:122: FutureWarning: You are accessing a training score ('split4_train_score'), which will not be available by default any more in 0.21. If you need training scores, please set return_train_score=True\n",
      "  warnings.warn(*warn_args, **warn_kwargs)\n",
      "C:\\ProgramData\\Anaconda3\\lib\\site-packages\\sklearn\\utils\\deprecation.py:122: FutureWarning: You are accessing a training score ('split5_train_score'), which will not be available by default any more in 0.21. If you need training scores, please set return_train_score=True\n",
      "  warnings.warn(*warn_args, **warn_kwargs)\n",
      "C:\\ProgramData\\Anaconda3\\lib\\site-packages\\sklearn\\utils\\deprecation.py:122: FutureWarning: You are accessing a training score ('split6_train_score'), which will not be available by default any more in 0.21. If you need training scores, please set return_train_score=True\n",
      "  warnings.warn(*warn_args, **warn_kwargs)\n",
      "C:\\ProgramData\\Anaconda3\\lib\\site-packages\\sklearn\\utils\\deprecation.py:122: FutureWarning: You are accessing a training score ('split7_train_score'), which will not be available by default any more in 0.21. If you need training scores, please set return_train_score=True\n",
      "  warnings.warn(*warn_args, **warn_kwargs)\n",
      "C:\\ProgramData\\Anaconda3\\lib\\site-packages\\sklearn\\utils\\deprecation.py:122: FutureWarning: You are accessing a training score ('split8_train_score'), which will not be available by default any more in 0.21. If you need training scores, please set return_train_score=True\n",
      "  warnings.warn(*warn_args, **warn_kwargs)\n",
      "C:\\ProgramData\\Anaconda3\\lib\\site-packages\\sklearn\\utils\\deprecation.py:122: FutureWarning: You are accessing a training score ('split9_train_score'), which will not be available by default any more in 0.21. If you need training scores, please set return_train_score=True\n",
      "  warnings.warn(*warn_args, **warn_kwargs)\n",
      "C:\\ProgramData\\Anaconda3\\lib\\site-packages\\sklearn\\utils\\deprecation.py:122: FutureWarning: You are accessing a training score ('mean_train_score'), which will not be available by default any more in 0.21. If you need training scores, please set return_train_score=True\n",
      "  warnings.warn(*warn_args, **warn_kwargs)\n",
      "C:\\ProgramData\\Anaconda3\\lib\\site-packages\\sklearn\\utils\\deprecation.py:122: FutureWarning: You are accessing a training score ('std_train_score'), which will not be available by default any more in 0.21. If you need training scores, please set return_train_score=True\n",
      "  warnings.warn(*warn_args, **warn_kwargs)\n"
     ]
    },
    {
     "name": "stdout",
     "output_type": "stream",
     "text": [
      "grid search results : \n",
      "                                                params  mean_test_score\n",
      "32  {'max_depth': None, 'max_features': 'sqrt', 'n...           0.9493\n",
      "29  {'max_depth': None, 'max_features': 'auto', 'n...           0.9479\n",
      "35  {'max_depth': None, 'max_features': 'log2', 'n...           0.9464\n",
      "31  {'max_depth': None, 'max_features': 'sqrt', 'n...           0.9462\n",
      "28  {'max_depth': None, 'max_features': 'auto', 'n...           0.9447\n",
      "34  {'max_depth': None, 'max_features': 'log2', 'n...           0.9397\n",
      "20  {'max_depth': 8, 'max_features': 'auto', 'n_es...           0.9233\n",
      "23  {'max_depth': 8, 'max_features': 'sqrt', 'n_es...           0.9212\n",
      "22  {'max_depth': 8, 'max_features': 'sqrt', 'n_es...           0.9191\n",
      "19  {'max_depth': 8, 'max_features': 'auto', 'n_es...           0.9176\n",
      "30  {'max_depth': None, 'max_features': 'sqrt', 'n...           0.9125\n",
      "26  {'max_depth': 8, 'max_features': 'log2', 'n_es...           0.9120\n",
      "27  {'max_depth': None, 'max_features': 'auto', 'n...           0.9092\n",
      "11  {'max_depth': 7, 'max_features': 'auto', 'n_es...           0.9089\n",
      "14  {'max_depth': 7, 'max_features': 'sqrt', 'n_es...           0.9066\n",
      "25  {'max_depth': 8, 'max_features': 'log2', 'n_es...           0.9063\n",
      "10  {'max_depth': 7, 'max_features': 'auto', 'n_es...           0.9049\n",
      "13  {'max_depth': 7, 'max_features': 'sqrt', 'n_es...           0.9010\n",
      "17  {'max_depth': 7, 'max_features': 'log2', 'n_es...           0.8985\n",
      "33  {'max_depth': None, 'max_features': 'log2', 'n...           0.8954\n",
      "16  {'max_depth': 7, 'max_features': 'log2', 'n_es...           0.8929\n",
      "21  {'max_depth': 8, 'max_features': 'sqrt', 'n_es...           0.8888\n",
      "2   {'max_depth': 6, 'max_features': 'auto', 'n_es...           0.8882\n",
      "5   {'max_depth': 6, 'max_features': 'sqrt', 'n_es...           0.8872\n",
      "18  {'max_depth': 8, 'max_features': 'auto', 'n_es...           0.8864\n",
      "1   {'max_depth': 6, 'max_features': 'auto', 'n_es...           0.8841\n",
      "4   {'max_depth': 6, 'max_features': 'sqrt', 'n_es...           0.8840\n",
      "8   {'max_depth': 6, 'max_features': 'log2', 'n_es...           0.8759\n",
      "12  {'max_depth': 7, 'max_features': 'sqrt', 'n_es...           0.8724\n",
      "7   {'max_depth': 6, 'max_features': 'log2', 'n_es...           0.8696\n",
      "9   {'max_depth': 7, 'max_features': 'auto', 'n_es...           0.8687\n",
      "24  {'max_depth': 8, 'max_features': 'log2', 'n_es...           0.8642\n",
      "0   {'max_depth': 6, 'max_features': 'auto', 'n_es...           0.8461\n",
      "15  {'max_depth': 7, 'max_features': 'log2', 'n_es...           0.8446\n",
      "3   {'max_depth': 6, 'max_features': 'sqrt', 'n_es...           0.8434\n",
      "6   {'max_depth': 6, 'max_features': 'log2', 'n_es...           0.8190\n"
     ]
    }
   ],
   "source": [
    "# results of hyperparameter tuning on validation data (cross validation)\n",
    "cv_results = gsearch1.cv_results_\n",
    "scores_df = pd.DataFrame(cv_results).sort_values(by='rank_test_score')[['params', 'mean_test_score']]\n",
    "print('grid search results : \\n {}'.format(scores_df))"
   ]
  },
  {
   "cell_type": "code",
   "execution_count": 24,
   "metadata": {},
   "outputs": [
    {
     "name": "stdout",
     "output_type": "stream",
     "text": [
      "Best model kwargs: %s {'max_depth': None, 'max_features': 'sqrt', 'n_estimators': 100, 'n_jobs': -1}\n"
     ]
    },
    {
     "data": {
      "text/plain": [
       "RandomForestClassifier(bootstrap=True, class_weight=None, criterion='gini',\n",
       "            max_depth=None, max_features='sqrt', max_leaf_nodes=None,\n",
       "            min_impurity_decrease=0.0, min_impurity_split=None,\n",
       "            min_samples_leaf=1, min_samples_split=2,\n",
       "            min_weight_fraction_leaf=0.0, n_estimators=100, n_jobs=-1,\n",
       "            oob_score=False, random_state=None, verbose=0,\n",
       "            warm_start=False)"
      ]
     },
     "execution_count": 24,
     "metadata": {},
     "output_type": "execute_result"
    }
   ],
   "source": [
    "# set the model kwargs to the grid-searched optimum\n",
    "print('Best model kwargs: %s', gsearch1.best_params_)\n",
    "for kwarg in gsearch1.best_params_:\n",
    "    ranf_kwarg[kwarg] = gsearch1.best_params_[kwarg]\n",
    "\n",
    "    \n",
    "ranf = eval(str(ranf))\n",
    "\n",
    "# set model parameters to grid-searched optimum\n",
    "ranf.set_params(**ranf_kwarg)"
   ]
  },
  {
   "cell_type": "code",
   "execution_count": 25,
   "metadata": {
    "ExecuteTime": {
     "end_time": "2018-11-19T19:07:51.287683Z",
     "start_time": "2018-11-19T19:09:09.962Z"
    }
   },
   "outputs": [
    {
     "data": {
      "text/plain": [
       "RandomForestClassifier(bootstrap=True, class_weight=None, criterion='gini',\n",
       "            max_depth=None, max_features='sqrt', max_leaf_nodes=None,\n",
       "            min_impurity_decrease=0.0, min_impurity_split=None,\n",
       "            min_samples_leaf=1, min_samples_split=2,\n",
       "            min_weight_fraction_leaf=0.0, n_estimators=100, n_jobs=-1,\n",
       "            oob_score=False, random_state=None, verbose=0,\n",
       "            warm_start=False)"
      ]
     },
     "execution_count": 25,
     "metadata": {},
     "output_type": "execute_result"
    }
   ],
   "source": [
    "# train random forest\n",
    "ranf.fit(X_train_mnist, y_train_mnist)"
   ]
  },
  {
   "cell_type": "code",
   "execution_count": 26,
   "metadata": {
    "ExecuteTime": {
     "end_time": "2018-11-19T19:07:51.288872Z",
     "start_time": "2018-11-19T19:09:09.966Z"
    }
   },
   "outputs": [
    {
     "name": "stdout",
     "output_type": "stream",
     "text": [
      "Accuracy on MNIST test set : 0.968\n",
      "Accuracy on USPS dataset : 0.10097019403880776\n"
     ]
    }
   ],
   "source": [
    "# predict on mnist test set\n",
    "y_preds_ranf_mnist = ranf.predict(X_test_mnist)\n",
    "\n",
    "# compute accuracy on mnist test set\n",
    "acc_mnist = accuracy_score(y_preds_ranf_mnist, y_test_mnist)\n",
    "\n",
    "# predict on usps test set\n",
    "y_preds_ranf_usps = ranf.predict(validation_usps)\n",
    "\n",
    "# compute accuracy on usps test set\n",
    "acc_usps = accuracy_score(validation_usps_label, y_preds_ranf_usps)\n",
    "\n",
    "# print out test scores\n",
    "print('Accuracy on MNIST test set : {}'.format(acc_mnist))\n",
    "\n",
    "print('Accuracy on USPS dataset : {}'.format(acc_usps))"
   ]
  },
  {
   "cell_type": "code",
   "execution_count": 27,
   "metadata": {
    "ExecuteTime": {
     "end_time": "2018-11-19T19:07:51.290092Z",
     "start_time": "2018-11-19T19:09:09.971Z"
    }
   },
   "outputs": [],
   "source": [
    "# get unique labels\n",
    "classes = np.unique(y_test_mnist)\n",
    "\n",
    "# compute confusion matrix for mnist\n",
    "cm_mnist = confusion_matrix(y_test_mnist, y_preds_ranf_mnist, labels=classes)\n",
    "\n",
    "# compute confusion matrix for usps\n",
    "cm_usps = confusion_matrix(validation_usps_label, y_preds_ranf_usps, labels=classes)"
   ]
  },
  {
   "cell_type": "code",
   "execution_count": 28,
   "metadata": {},
   "outputs": [
    {
     "name": "stdout",
     "output_type": "stream",
     "text": [
      "Random Forest Confusion matrix\n"
     ]
    },
    {
     "data": {
      "image/png": "[encoded data removed]",
      "text/plain": [
       "<Figure size 432x288 with 2 Axes>"
      ]
     },
     "metadata": {
      "needs_background": "light"
     },
     "output_type": "display_data"
    },
    {
     "data": {
      "text/plain": [
       "<Figure size 432x288 with 0 Axes>"
      ]
     },
     "metadata": {},
     "output_type": "display_data"
    }
   ],
   "source": [
    "# plot mnist confusion matrix\n",
    "plot_confusion_matrix(cm_mnist, classes, model='Random Forest', cm_path=None)"
   ]
  },
  {
   "cell_type": "code",
   "execution_count": 29,
   "metadata": {
    "ExecuteTime": {
     "end_time": "2018-11-19T19:07:51.291194Z",
     "start_time": "2018-11-19T19:09:09.976Z"
    }
   },
   "outputs": [
    {
     "name": "stdout",
     "output_type": "stream",
     "text": [
      "Random Forest Confusion matrix\n"
     ]
    },
    {
     "data": {
      "image/png": "[encoded data removed]",
      "text/plain": [
       "<Figure size 432x288 with 2 Axes>"
      ]
     },
     "metadata": {
      "needs_background": "light"
     },
     "output_type": "display_data"
    },
    {
     "data": {
      "text/plain": [
       "<Figure size 432x288 with 0 Axes>"
      ]
     },
     "metadata": {},
     "output_type": "display_data"
    }
   ],
   "source": [
    "# plot usps confusion matrix\n",
    "plot_confusion_matrix(cm_usps, classes, model='Random Forest', cm_path=None)"
   ]
  },
  {
   "cell_type": "markdown",
   "metadata": {},
   "source": [
    "### SVC PCA"
   ]
  },
  {
   "cell_type": "code",
   "execution_count": 30,
   "metadata": {
    "ExecuteTime": {
     "end_time": "2018-11-19T19:07:51.292531Z",
     "start_time": "2018-11-19T19:09:09.980Z"
    }
   },
   "outputs": [],
   "source": [
    "# no of PCA componets\n",
    "n_components = 16\n",
    "\n",
    "\n",
    "# initialize PCA for mnist\n",
    "pca_mnist = PCA(n_components=n_components, svd_solver='randomized',\n",
    "          whiten=True).fit(X_mnist)\n",
    "\n",
    "# initialize PCA for usps\n",
    "pca_usps = PCA(n_components=n_components, svd_solver='randomized',\n",
    "          whiten=True).fit(validation_usps)\n",
    "\n",
    "\n",
    "\n",
    "# pca on mnist\n",
    "X_mnist_pca = pca_mnist.transform(X_mnist)\n",
    "\n",
    "# pca on usps\n",
    "X_usps_pca = pca_usps.transform(validation_usps)\n",
    "\n",
    "# separate the train and test sets\n",
    "X_train_mnist_pca = X_mnist_pca[:50000]\n",
    "X_val_mnist_pca = X_mnist_pca[50000:60000]\n",
    "X_test_mnist_pca = X_mnist_pca[60000:]"
   ]
  },
  {
   "cell_type": "code",
   "execution_count": 31,
   "metadata": {
    "ExecuteTime": {
     "end_time": "2018-11-19T19:07:51.293861Z",
     "start_time": "2018-11-19T19:09:09.984Z"
    }
   },
   "outputs": [
    {
     "data": {
      "text/plain": [
       "0.5953046282043643"
      ]
     },
     "execution_count": 31,
     "metadata": {},
     "output_type": "execute_result"
    },
    {
     "data": {
      "image/png": "[encoded data removed]",
      "text/plain": [
       "<Figure size 432x288 with 1 Axes>"
      ]
     },
     "metadata": {
      "needs_background": "light"
     },
     "output_type": "display_data"
    }
   ],
   "source": [
    "# mnist explained variance\n",
    "plt.hist(pca_mnist.explained_variance_ratio_, bins=n_components, log=True)\n",
    "pca_mnist.explained_variance_ratio_.sum()"
   ]
  },
  {
   "cell_type": "code",
   "execution_count": 32,
   "metadata": {},
   "outputs": [
    {
     "data": {
      "text/plain": [
       "0.37983203"
      ]
     },
     "execution_count": 32,
     "metadata": {},
     "output_type": "execute_result"
    },
    {
     "data": {
      "image/png": "[encoded data removed]",
      "text/plain": [
       "<Figure size 432x288 with 1 Axes>"
      ]
     },
     "metadata": {
      "needs_background": "light"
     },
     "output_type": "display_data"
    }
   ],
   "source": [
    "# usps explained variance\n",
    "plt.hist(pca_usps.explained_variance_ratio_, bins=n_components, log=True)\n",
    "pca_usps.explained_variance_ratio_.sum()"
   ]
  },
  {
   "cell_type": "code",
   "execution_count": 33,
   "metadata": {
    "ExecuteTime": {
     "end_time": "2018-11-19T19:07:51.295071Z",
     "start_time": "2018-11-19T19:09:09.986Z"
    }
   },
   "outputs": [],
   "source": [
    "# grid of hyperparameters\n",
    "svc_params = {'kernel' : ['rbf', 'linear', 'poly'],\n",
    "'C' : [1e0, 1e1, 1e2, 1e3],\n",
    "'gamma' : [1, 10, 100]\n",
    "               }"
   ]
  },
  {
   "cell_type": "code",
   "execution_count": 34,
   "metadata": {
    "ExecuteTime": {
     "end_time": "2018-11-19T19:07:51.296142Z",
     "start_time": "2018-11-19T19:09:09.990Z"
    }
   },
   "outputs": [],
   "source": [
    "# # limited grid of hyperparameters\n",
    "# svc_params = {'kernel' : ['linear'],\n",
    "# 'C' : [1e0, 1e1],\n",
    "# 'gamma' : [1]\n",
    "#                }"
   ]
  },
  {
   "cell_type": "code",
   "execution_count": 35,
   "metadata": {
    "ExecuteTime": {
     "end_time": "2018-11-19T19:07:51.297696Z",
     "start_time": "2018-11-19T19:09:09.993Z"
    }
   },
   "outputs": [],
   "source": [
    "# svc hyperparameters\n",
    "svc_kwarg = {'kernel' : 'linear',\n",
    "'C' : 1e0,\n",
    "'gamma' : 1\n",
    "               }"
   ]
  },
  {
   "cell_type": "code",
   "execution_count": 36,
   "metadata": {
    "ExecuteTime": {
     "end_time": "2018-11-19T19:07:51.298996Z",
     "start_time": "2018-11-19T19:09:09.995Z"
    }
   },
   "outputs": [],
   "source": [
    "# initialize support vector machine classifier\n",
    "svc = SVC()"
   ]
  },
  {
   "cell_type": "code",
   "execution_count": 37,
   "metadata": {},
   "outputs": [],
   "source": [
    "# predefined validation data to pass to grid search for hyperparameter tuning\n",
    "ps = PredefinedSplit(test_fold=y_val_mnist)"
   ]
  },
  {
   "cell_type": "code",
   "execution_count": 38,
   "metadata": {
    "ExecuteTime": {
     "end_time": "2018-11-19T19:07:51.300594Z",
     "start_time": "2018-11-19T19:09:09.998Z"
    }
   },
   "outputs": [
    {
     "name": "stdout",
     "output_type": "stream",
     "text": [
      "Fitting 10 folds for each of 36 candidates, totalling 360 fits\n"
     ]
    },
    {
     "name": "stderr",
     "output_type": "stream",
     "text": [
      "[Parallel(n_jobs=-1)]: Done  42 tasks      | elapsed:  2.3min\n",
      "[Parallel(n_jobs=-1)]: Done 192 tasks      | elapsed: 11.8min\n",
      "[Parallel(n_jobs=-1)]: Done 360 out of 360 | elapsed: 75.9min finished\n"
     ]
    },
    {
     "data": {
      "text/plain": [
       "GridSearchCV(cv=PredefinedSplit(test_fold=array([3, 8, ..., 6, 8])),\n",
       "       error_score='raise',\n",
       "       estimator=SVC(C=1.0, cache_size=200, class_weight=None, coef0=0.0,\n",
       "  decision_function_shape='ovr', degree=3, gamma='auto', kernel='rbf',\n",
       "  max_iter=-1, probability=False, random_state=None, shrinking=True,\n",
       "  tol=0.001, verbose=False),\n",
       "       fit_params=None, iid=True, n_jobs=-1,\n",
       "       param_grid={'kernel': ['rbf', 'linear', 'poly'], 'C': [1.0, 10.0, 100.0, 1000.0], 'gamma': [1, 10, 100]},\n",
       "       pre_dispatch='2*n_jobs', refit=True, return_train_score='warn',\n",
       "       scoring='accuracy', verbose=1)"
      ]
     },
     "execution_count": 38,
     "metadata": {},
     "output_type": "execute_result"
    }
   ],
   "source": [
    "# initialize grid search\n",
    "gsearch1 = GridSearchCV(estimator=svc,\n",
    "                        param_grid=svc_params,\n",
    "                        scoring='accuracy', n_jobs=-1, cv=ps, verbose=1)\n",
    "#\n",
    "# fit the grid search using the training data\n",
    "gsearch1.fit(X_train_mnist_pca, y_train_mnist)\n",
    "\n"
   ]
  },
  {
   "cell_type": "code",
   "execution_count": 39,
   "metadata": {},
   "outputs": [
    {
     "name": "stdout",
     "output_type": "stream",
     "text": [
      "grid search results : \n",
      "                                              params  mean_test_score\n",
      "17      {'C': 10.0, 'gamma': 100, 'kernel': 'poly'}           0.9397\n",
      "32     {'C': 1000.0, 'gamma': 10, 'kernel': 'poly'}           0.9397\n",
      "29      {'C': 1000.0, 'gamma': 1, 'kernel': 'poly'}           0.9397\n",
      "26     {'C': 100.0, 'gamma': 100, 'kernel': 'poly'}           0.9397\n",
      "23      {'C': 100.0, 'gamma': 10, 'kernel': 'poly'}           0.9397\n",
      "20       {'C': 100.0, 'gamma': 1, 'kernel': 'poly'}           0.9397\n",
      "14       {'C': 10.0, 'gamma': 10, 'kernel': 'poly'}           0.9397\n",
      "11        {'C': 10.0, 'gamma': 1, 'kernel': 'poly'}           0.9397\n",
      "35    {'C': 1000.0, 'gamma': 100, 'kernel': 'poly'}           0.9397\n",
      "2          {'C': 1.0, 'gamma': 1, 'kernel': 'poly'}           0.9397\n",
      "5         {'C': 1.0, 'gamma': 10, 'kernel': 'poly'}           0.9397\n",
      "8        {'C': 1.0, 'gamma': 100, 'kernel': 'poly'}           0.9397\n",
      "7      {'C': 1.0, 'gamma': 100, 'kernel': 'linear'}           0.8877\n",
      "1        {'C': 1.0, 'gamma': 1, 'kernel': 'linear'}           0.8877\n",
      "4       {'C': 1.0, 'gamma': 10, 'kernel': 'linear'}           0.8877\n",
      "31   {'C': 1000.0, 'gamma': 10, 'kernel': 'linear'}           0.8867\n",
      "34  {'C': 1000.0, 'gamma': 100, 'kernel': 'linear'}           0.8867\n",
      "28    {'C': 1000.0, 'gamma': 1, 'kernel': 'linear'}           0.8867\n",
      "22    {'C': 100.0, 'gamma': 10, 'kernel': 'linear'}           0.8865\n",
      "19     {'C': 100.0, 'gamma': 1, 'kernel': 'linear'}           0.8865\n",
      "25   {'C': 100.0, 'gamma': 100, 'kernel': 'linear'}           0.8865\n",
      "10      {'C': 10.0, 'gamma': 1, 'kernel': 'linear'}           0.8864\n",
      "13     {'C': 10.0, 'gamma': 10, 'kernel': 'linear'}           0.8864\n",
      "16    {'C': 10.0, 'gamma': 100, 'kernel': 'linear'}           0.8864\n",
      "27       {'C': 1000.0, 'gamma': 1, 'kernel': 'rbf'}           0.7692\n",
      "9          {'C': 10.0, 'gamma': 1, 'kernel': 'rbf'}           0.7692\n",
      "18        {'C': 100.0, 'gamma': 1, 'kernel': 'rbf'}           0.7692\n",
      "0           {'C': 1.0, 'gamma': 1, 'kernel': 'rbf'}           0.7513\n",
      "21       {'C': 100.0, 'gamma': 10, 'kernel': 'rbf'}           0.1749\n",
      "30      {'C': 1000.0, 'gamma': 10, 'kernel': 'rbf'}           0.1749\n",
      "12        {'C': 10.0, 'gamma': 10, 'kernel': 'rbf'}           0.1749\n",
      "3          {'C': 1.0, 'gamma': 10, 'kernel': 'rbf'}           0.1727\n",
      "15       {'C': 10.0, 'gamma': 100, 'kernel': 'rbf'}           0.1127\n",
      "6         {'C': 1.0, 'gamma': 100, 'kernel': 'rbf'}           0.1127\n",
      "33     {'C': 1000.0, 'gamma': 100, 'kernel': 'rbf'}           0.1127\n",
      "24      {'C': 100.0, 'gamma': 100, 'kernel': 'rbf'}           0.1127\n"
     ]
    },
    {
     "name": "stderr",
     "output_type": "stream",
     "text": [
      "C:\\ProgramData\\Anaconda3\\lib\\site-packages\\sklearn\\utils\\deprecation.py:122: FutureWarning: You are accessing a training score ('split0_train_score'), which will not be available by default any more in 0.21. If you need training scores, please set return_train_score=True\n",
      "  warnings.warn(*warn_args, **warn_kwargs)\n",
      "C:\\ProgramData\\Anaconda3\\lib\\site-packages\\sklearn\\utils\\deprecation.py:122: FutureWarning: You are accessing a training score ('split1_train_score'), which will not be available by default any more in 0.21. If you need training scores, please set return_train_score=True\n",
      "  warnings.warn(*warn_args, **warn_kwargs)\n",
      "C:\\ProgramData\\Anaconda3\\lib\\site-packages\\sklearn\\utils\\deprecation.py:122: FutureWarning: You are accessing a training score ('split2_train_score'), which will not be available by default any more in 0.21. If you need training scores, please set return_train_score=True\n",
      "  warnings.warn(*warn_args, **warn_kwargs)\n",
      "C:\\ProgramData\\Anaconda3\\lib\\site-packages\\sklearn\\utils\\deprecation.py:122: FutureWarning: You are accessing a training score ('split3_train_score'), which will not be available by default any more in 0.21. If you need training scores, please set return_train_score=True\n",
      "  warnings.warn(*warn_args, **warn_kwargs)\n",
      "C:\\ProgramData\\Anaconda3\\lib\\site-packages\\sklearn\\utils\\deprecation.py:122: FutureWarning: You are accessing a training score ('split4_train_score'), which will not be available by default any more in 0.21. If you need training scores, please set return_train_score=True\n",
      "  warnings.warn(*warn_args, **warn_kwargs)\n",
      "C:\\ProgramData\\Anaconda3\\lib\\site-packages\\sklearn\\utils\\deprecation.py:122: FutureWarning: You are accessing a training score ('split5_train_score'), which will not be available by default any more in 0.21. If you need training scores, please set return_train_score=True\n",
      "  warnings.warn(*warn_args, **warn_kwargs)\n",
      "C:\\ProgramData\\Anaconda3\\lib\\site-packages\\sklearn\\utils\\deprecation.py:122: FutureWarning: You are accessing a training score ('split6_train_score'), which will not be available by default any more in 0.21. If you need training scores, please set return_train_score=True\n",
      "  warnings.warn(*warn_args, **warn_kwargs)\n",
      "C:\\ProgramData\\Anaconda3\\lib\\site-packages\\sklearn\\utils\\deprecation.py:122: FutureWarning: You are accessing a training score ('split7_train_score'), which will not be available by default any more in 0.21. If you need training scores, please set return_train_score=True\n",
      "  warnings.warn(*warn_args, **warn_kwargs)\n",
      "C:\\ProgramData\\Anaconda3\\lib\\site-packages\\sklearn\\utils\\deprecation.py:122: FutureWarning: You are accessing a training score ('split8_train_score'), which will not be available by default any more in 0.21. If you need training scores, please set return_train_score=True\n",
      "  warnings.warn(*warn_args, **warn_kwargs)\n",
      "C:\\ProgramData\\Anaconda3\\lib\\site-packages\\sklearn\\utils\\deprecation.py:122: FutureWarning: You are accessing a training score ('split9_train_score'), which will not be available by default any more in 0.21. If you need training scores, please set return_train_score=True\n",
      "  warnings.warn(*warn_args, **warn_kwargs)\n",
      "C:\\ProgramData\\Anaconda3\\lib\\site-packages\\sklearn\\utils\\deprecation.py:122: FutureWarning: You are accessing a training score ('mean_train_score'), which will not be available by default any more in 0.21. If you need training scores, please set return_train_score=True\n",
      "  warnings.warn(*warn_args, **warn_kwargs)\n",
      "C:\\ProgramData\\Anaconda3\\lib\\site-packages\\sklearn\\utils\\deprecation.py:122: FutureWarning: You are accessing a training score ('std_train_score'), which will not be available by default any more in 0.21. If you need training scores, please set return_train_score=True\n",
      "  warnings.warn(*warn_args, **warn_kwargs)\n"
     ]
    }
   ],
   "source": [
    "# get results and display\n",
    "cv_results = gsearch1.cv_results_\n",
    "scores_df = pd.DataFrame(cv_results).sort_values(by='rank_test_score')[['params', 'mean_test_score']]\n",
    "print('grid search results : \\n {}'.format(scores_df))"
   ]
  },
  {
   "cell_type": "code",
   "execution_count": 40,
   "metadata": {},
   "outputs": [
    {
     "name": "stdout",
     "output_type": "stream",
     "text": [
      "Best model kwargs: %s {'C': 1.0, 'gamma': 1, 'kernel': 'poly'}\n"
     ]
    },
    {
     "data": {
      "text/plain": [
       "SVC(C=1.0, cache_size=200, class_weight=None, coef0=0.0,\n",
       "  decision_function_shape='ovr', degree=3, gamma=1, kernel='poly',\n",
       "  max_iter=-1, probability=False, random_state=None, shrinking=True,\n",
       "  tol=0.001, verbose=False)"
      ]
     },
     "execution_count": 40,
     "metadata": {},
     "output_type": "execute_result"
    }
   ],
   "source": [
    "# set the model kwargs to the grid-searched optimum\n",
    "print('Best model kwargs: %s', gsearch1.best_params_)\n",
    "for kwarg in gsearch1.best_params_:\n",
    "    svc_kwarg[kwarg] = gsearch1.best_params_[kwarg]\n",
    "    \n",
    "svc = eval(str(svc))\n",
    "\n",
    "# set model parameters to grid-searched optimum\n",
    "svc.set_params(**svc_kwarg)"
   ]
  },
  {
   "cell_type": "code",
   "execution_count": 41,
   "metadata": {
    "ExecuteTime": {
     "end_time": "2018-11-19T19:07:51.302194Z",
     "start_time": "2018-11-19T19:09:10.002Z"
    }
   },
   "outputs": [
    {
     "data": {
      "text/plain": [
       "SVC(C=1.0, cache_size=200, class_weight=None, coef0=0.0,\n",
       "  decision_function_shape='ovr', degree=3, gamma=1, kernel='poly',\n",
       "  max_iter=-1, probability=False, random_state=None, shrinking=True,\n",
       "  tol=0.001, verbose=False)"
      ]
     },
     "execution_count": 41,
     "metadata": {},
     "output_type": "execute_result"
    }
   ],
   "source": [
    "# train SVC\n",
    "svc.fit(X_train_mnist_pca, y_train_mnist)"
   ]
  },
  {
   "cell_type": "code",
   "execution_count": 42,
   "metadata": {
    "ExecuteTime": {
     "end_time": "2018-11-19T19:07:51.303637Z",
     "start_time": "2018-11-19T19:09:10.004Z"
    }
   },
   "outputs": [],
   "source": [
    "# predict on mnist\n",
    "y_preds_svc_mnist = svc.predict(X_test_mnist_pca)\n",
    "\n",
    "# predict on usps\n",
    "y_preds_svc_usps = svc.predict(X_usps_pca)\n",
    "\n",
    "# compute accuracy for mnist\n",
    "acc_mnist = svc.score(X_test_mnist_pca, y_test_mnist)\n",
    "\n",
    "# compute accuracy for usps\n",
    "acc_usps = accuracy_score(validation_usps_label, y_preds_svc_usps)"
   ]
  },
  {
   "cell_type": "code",
   "execution_count": 43,
   "metadata": {},
   "outputs": [
    {
     "name": "stdout",
     "output_type": "stream",
     "text": [
      "Accuracy on MNIST test set : 0.9565\n",
      "Accuracy on USPS test set : 0.07141428285657131\n"
     ]
    }
   ],
   "source": [
    "# display results\n",
    "print('Accuracy on MNIST test set : {}'.format(acc_mnist))\n",
    "\n",
    "print('Accuracy on USPS test set : {}'.format(acc_usps))   "
   ]
  },
  {
   "cell_type": "code",
   "execution_count": 44,
   "metadata": {
    "ExecuteTime": {
     "end_time": "2018-11-19T19:07:51.305088Z",
     "start_time": "2018-11-19T19:09:10.008Z"
    }
   },
   "outputs": [],
   "source": [
    "# get the labels\n",
    "classes = np.unique(y_test_mnist)\n",
    "\n",
    "# compute mnist confusion matrix\n",
    "cm_mnist = confusion_matrix(y_test_mnist, y_preds_svc_mnist, labels=classes)\n",
    "\n",
    "# compute usps confusion matrix\n",
    "cm_usps = confusion_matrix(validation_usps_label, y_preds_svc_usps, labels=classes)\n"
   ]
  },
  {
   "cell_type": "code",
   "execution_count": 45,
   "metadata": {},
   "outputs": [
    {
     "name": "stdout",
     "output_type": "stream",
     "text": [
      "Random Forest Confusion matrix\n"
     ]
    },
    {
     "data": {
      "image/png": "[encoded data removed]",
      "text/plain": [
       "<Figure size 432x288 with 2 Axes>"
      ]
     },
     "metadata": {
      "needs_background": "light"
     },
     "output_type": "display_data"
    },
    {
     "data": {
      "text/plain": [
       "<Figure size 432x288 with 0 Axes>"
      ]
     },
     "metadata": {},
     "output_type": "display_data"
    }
   ],
   "source": [
    "# plot mnist confusion matrix\n",
    "plot_confusion_matrix(cm_mnist, classes, model='Support Vector Classifier', cm_path=None)"
   ]
  },
  {
   "cell_type": "code",
   "execution_count": 46,
   "metadata": {
    "ExecuteTime": {
     "end_time": "2018-11-19T19:07:51.306628Z",
     "start_time": "2018-11-19T19:09:10.011Z"
    }
   },
   "outputs": [
    {
     "name": "stdout",
     "output_type": "stream",
     "text": [
      "Random Forest Confusion matrix\n"
     ]
    },
    {
     "data": {
      "image/png": "[encoded data removed]",
      "text/plain": [
       "<Figure size 432x288 with 2 Axes>"
      ]
     },
     "metadata": {
      "needs_background": "light"
     },
     "output_type": "display_data"
    },
    {
     "data": {
      "text/plain": [
       "<Figure size 432x288 with 0 Axes>"
      ]
     },
     "metadata": {},
     "output_type": "display_data"
    }
   ],
   "source": [
    "# plot usps confusion matrix\n",
    "plot_confusion_matrix(cm_usps, classes, model='Support Vector Classifier', cm_path=None)"
   ]
  },
  {
   "cell_type": "markdown",
   "metadata": {},
   "source": [
    "### Neural Network"
   ]
  },
  {
   "cell_type": "markdown",
   "metadata": {},
   "source": [
    "#### Imports (Neural Network)"
   ]
  },
  {
   "cell_type": "code",
   "execution_count": 47,
   "metadata": {},
   "outputs": [],
   "source": [
    "import torch\n",
    "import torch.nn as nn\n",
    "import torch.nn.functional as F\n",
    "from torch.utils.data.dataset import Dataset\n",
    "from torch.utils.data import DataLoader\n",
    "import torchvision\n",
    "import torchvision.transforms as transforms\n",
    "from torch.autograd import Variable\n",
    "import torch.optim as optim\n",
    "\n",
    "import matplotlib.pyplot as plt\n",
    "import numpy as np\n",
    "%matplotlib inline"
   ]
  },
  {
   "cell_type": "code",
   "execution_count": 48,
   "metadata": {
    "ExecuteTime": {
     "end_time": "2018-11-19T19:07:51.308014Z",
     "start_time": "2018-11-19T19:09:10.014Z"
    }
   },
   "outputs": [
    {
     "name": "stdout",
     "output_type": "stream",
     "text": [
      "Downloading http://yann.lecun.com/exdb/mnist/train-images-idx3-ubyte.gz\n",
      "Downloading http://yann.lecun.com/exdb/mnist/train-labels-idx1-ubyte.gz\n",
      "Downloading http://yann.lecun.com/exdb/mnist/t10k-images-idx3-ubyte.gz\n",
      "Downloading http://yann.lecun.com/exdb/mnist/t10k-labels-idx1-ubyte.gz\n",
      "Processing...\n",
      "Done!\n",
      "Labels:  tensor([1, 1, 7, 0])\n",
      "Batch shape:  torch.Size([4, 1, 28, 28])\n"
     ]
    },
    {
     "data": {
      "image/png": "[encoded data removed]",
      "text/plain": [
       "<Figure size 432x288 with 1 Axes>"
      ]
     },
     "metadata": {
      "needs_background": "light"
     },
     "output_type": "display_data"
    }
   ],
   "source": [
    "\n",
    "# initialize transform (converting to pytorch tensor)\n",
    "transform = transforms.ToTensor()\n",
    "\n",
    "# initialize hyperparameter grids\n",
    "lrs_grid = [1e-6, 1e-4, 1e-3]\n",
    "neurons_grid = [16, 32, 48, 64, 128, 256]\n",
    "\n",
    "# # limited grid of hyperparams for testing\n",
    "# lrs_grid = [1e-6, 1e-4]\n",
    "# neurons_grid = [16]\n",
    "\n",
    "# batch size\n",
    "BATCH_SIZE = 4\n",
    "\n",
    "# initialize pytorch datasets\n",
    "trainset_mnist = torchvision.datasets.MNIST('/tmp', train=True, download=True, transform=transform)\n",
    "trainloader_mnist = torch.utils.data.DataLoader(trainset_mnist, batch_size=BATCH_SIZE, shuffle=True, num_workers=2)\n",
    "\n",
    "validation_mnist = X_val_mnist.reshape(-1, 1, 28, 28)\n",
    "valset_mnist = torch.utils.data.TensorDataset(torch.from_numpy(validation_mnist), torch.Tensor(y_val_mnist))\n",
    "valloader_mnist = torch.utils.data.DataLoader(valset_mnist, batch_size=BATCH_SIZE, shuffle=False, num_workers=0)\n",
    "\n",
    "testset_mnist = torchvision.datasets.MNIST('/tmp', train=False, download=True, transform=transform)\n",
    "testloader_mnist = torch.utils.data.DataLoader(testset_mnist, batch_size=BATCH_SIZE, shuffle=False, num_workers=0)\n",
    "\n",
    "validation_usps = validation_usps.reshape(-1, 1, 28, 28)\n",
    "testset_usps = torch.utils.data.TensorDataset(torch.from_numpy(validation_usps), torch.Tensor(validation_usps_label))\n",
    "testloader_usps = torch.utils.data.DataLoader(testset_usps, batch_size=BATCH_SIZE, shuffle=False, num_workers=0)\n",
    "\n",
    "# visualize mnist batch\n",
    "def show_batch(batch):\n",
    "    im = torchvision.utils.make_grid(batch)\n",
    "    plt.imshow(np.transpose(im.numpy(), (1, 2, 0)))\n",
    "\n",
    "dataiter = iter(trainloader_mnist)\n",
    "images, labels = dataiter.next()\n",
    "\n",
    "print('Labels: ', labels)\n",
    "print('Batch shape: ', images.size())\n",
    "show_batch(images)\n",
    "\n",
    "\n",
    "# define the neural network\n",
    "class SequentialMNIST(nn.Module):\n",
    "    def __init__(self, no_neurons):\n",
    "        super(SequentialMNIST, self).__init__()\n",
    "        self.linear1 = nn.Linear(28*28, no_neurons)\n",
    "        self.linear2 = nn.Linear(no_neurons, 10)\n",
    "\n",
    "    def forward(self, x):\n",
    "        h_relu = F.relu(self.linear1(x.view(BATCH_SIZE, -1)))\n",
    "        y_pred = self.linear2(h_relu)\n",
    "        return y_pred\n",
    "\n",
    "# define the train function for mnist\n",
    "def train_mnist(model, trainloader_mnist, criterion, optimizer, n_epochs=2):\n",
    "    for t in range(n_epochs):\n",
    "        for i, data in enumerate(trainloader_mnist):\n",
    "            inputs, labels = data\n",
    "            inputs, labels = Variable(inputs), Variable(labels)\n",
    "\n",
    "            # TODO: why?\n",
    "            optimizer.zero_grad()\n",
    "\n",
    "            outputs = model(inputs)\n",
    "            loss = criterion(outputs, labels) # Compute the loss\n",
    "            loss.backward() # Compute the gradient for each variable\n",
    "            optimizer.step() # Update the weights according to the computed gradient\n",
    "\n",
    "            if not i % 2000:\n",
    "                print(t, i, loss.data[0])\n",
    "    \n",
    "    return model\n",
    "\n",
    "# define the test function for mnist\n",
    "def val_mnist(model, val_mnist):\n",
    "    outGT = torch.FloatTensor()\n",
    "    outPRED = torch.FloatTensor()\n",
    "    \n",
    "    for i, data in enumerate(valloader_mnist):\n",
    "        inputs, labels = data\n",
    "        inputs, labels = Variable(inputs), Variable(labels)\n",
    "\n",
    "        outputs = model(inputs)\n",
    "\n",
    "        outGT = torch.cat((outGT, labels), 0)\n",
    "\n",
    "        outPRED = torch.cat((outPRED, outputs), 0)\n",
    "        \n",
    "    outPRED = outPRED.data.max(dim=1)[1]\n",
    "        \n",
    "    return outPRED.numpy()\n",
    "\n",
    "# define the test function for mnist\n",
    "def test_mnist(model, testloader_mnist):\n",
    "    outGT = torch.LongTensor()\n",
    "    outPRED = torch.FloatTensor()\n",
    "    \n",
    "    for i, data in enumerate(testloader_mnist):\n",
    "        inputs, labels = data\n",
    "        inputs, labels = Variable(inputs), Variable(labels)\n",
    "\n",
    "        outputs = model(inputs)\n",
    "\n",
    "        outGT = torch.cat((outGT, labels), 0)\n",
    "\n",
    "        outPRED = torch.cat((outPRED, outputs), 0)\n",
    "        \n",
    "    outPRED = outPRED.data.max(dim=1)[1]\n",
    "        \n",
    "    return outPRED.numpy()\n",
    "\n",
    "# define the test function for usps\n",
    "def test_usps(model, testloader_usps):\n",
    "    outGT = torch.FloatTensor()\n",
    "    outPRED = torch.FloatTensor()\n",
    "    \n",
    "    for i, data in enumerate(testloader_usps):\n",
    "        inputs, labels = data\n",
    "        inputs, labels = Variable(inputs), Variable(labels)\n",
    "\n",
    "        outputs = model(inputs)\n",
    "\n",
    "        outGT = torch.cat((outGT, labels), 0)\n",
    "\n",
    "        outPRED = torch.cat((outPRED, outputs), 0)\n",
    "        \n",
    "    outPRED = outPRED.data.max(dim=1)[1]\n",
    "        \n",
    "    return outPRED.numpy()\n"
   ]
  },
  {
   "cell_type": "code",
   "execution_count": 49,
   "metadata": {},
   "outputs": [
    {
     "name": "stderr",
     "output_type": "stream",
     "text": [
      "C:\\ProgramData\\Anaconda3\\lib\\site-packages\\ipykernel_launcher.py:72: UserWarning: invalid index of a 0-dim tensor. This will be an error in PyTorch 0.5. Use tensor.item() to convert a 0-dim tensor to a Python number\n"
     ]
    },
    {
     "name": "stdout",
     "output_type": "stream",
     "text": [
      "0 0 tensor(2.3665)\n",
      "0 2000 tensor(2.2214)\n",
      "0 4000 tensor(2.3215)\n",
      "0 6000 tensor(2.2373)\n",
      "0 8000 tensor(2.2820)\n",
      "0 10000 tensor(2.3235)\n",
      "0 12000 tensor(2.2518)\n",
      "0 14000 tensor(2.2170)\n",
      "0 0 tensor(2.2343)\n",
      "0 2000 tensor(0.7624)\n",
      "0 4000 tensor(0.5568)\n",
      "0 6000 tensor(0.4905)\n",
      "0 8000 tensor(1.2903)\n",
      "0 10000 tensor(0.5763)\n",
      "0 12000 tensor(0.2722)\n",
      "0 14000 tensor(0.1983)\n",
      "0 0 tensor(2.2973)\n",
      "0 2000 tensor(0.0509)\n",
      "0 4000 tensor(0.7249)\n",
      "0 6000 tensor(0.1010)\n",
      "0 8000 tensor(1.8339)\n",
      "0 10000 tensor(0.0355)\n",
      "0 12000 tensor(0.6033)\n",
      "0 14000 tensor(0.0123)\n",
      "0 0 tensor(2.2921)\n",
      "0 2000 tensor(2.3209)\n",
      "0 4000 tensor(2.2839)\n",
      "0 6000 tensor(2.2142)\n",
      "0 8000 tensor(2.2111)\n",
      "0 10000 tensor(2.1733)\n",
      "0 12000 tensor(2.2260)\n",
      "0 14000 tensor(2.2406)\n",
      "0 0 tensor(2.2489)\n",
      "0 2000 tensor(0.6901)\n",
      "0 4000 tensor(0.3979)\n",
      "0 6000 tensor(0.4267)\n",
      "0 8000 tensor(0.0844)\n",
      "0 10000 tensor(0.3866)\n",
      "0 12000 tensor(0.0985)\n",
      "0 14000 tensor(1.2719)\n",
      "0 0 tensor(2.3424)\n",
      "0 2000 tensor(0.2395)\n",
      "0 4000 tensor(0.1394)\n",
      "0 6000 tensor(0.0802)\n",
      "0 8000 tensor(0.2944)\n",
      "0 10000 tensor(0.6056)\n",
      "0 12000 tensor(0.2972)\n",
      "0 14000 tensor(0.1941)\n",
      "0 0 tensor(2.2769)\n",
      "0 2000 tensor(2.3477)\n",
      "0 4000 tensor(2.3281)\n",
      "0 6000 tensor(2.2196)\n",
      "0 8000 tensor(2.2855)\n",
      "0 10000 tensor(2.2011)\n",
      "0 12000 tensor(2.1948)\n",
      "0 14000 tensor(1.8644)\n",
      "0 0 tensor(2.3673)\n",
      "0 2000 tensor(0.5674)\n",
      "0 4000 tensor(0.3977)\n",
      "0 6000 tensor(0.4208)\n",
      "0 8000 tensor(0.5707)\n",
      "0 10000 tensor(1.6110)\n",
      "0 12000 tensor(0.5474)\n",
      "0 14000 tensor(0.4772)\n",
      "0 0 tensor(2.2264)\n",
      "0 2000 tensor(0.0130)\n",
      "0 4000 tensor(0.2891)\n",
      "0 6000 tensor(0.1146)\n",
      "0 8000 tensor(0.0189)\n",
      "0 10000 tensor(0.0568)\n",
      "0 12000 tensor(0.0151)\n",
      "0 14000 tensor(0.2023)\n",
      "0 0 tensor(2.3407)\n",
      "0 2000 tensor(2.3913)\n",
      "0 4000 tensor(2.3111)\n",
      "0 6000 tensor(2.4108)\n",
      "0 8000 tensor(2.2033)\n",
      "0 10000 tensor(2.1999)\n",
      "0 12000 tensor(2.2689)\n",
      "0 14000 tensor(2.0780)\n",
      "0 0 tensor(2.3077)\n",
      "0 2000 tensor(0.6731)\n",
      "0 4000 tensor(0.7247)\n",
      "0 6000 tensor(0.2301)\n",
      "0 8000 tensor(0.4368)\n",
      "0 10000 tensor(0.2151)\n",
      "0 12000 tensor(0.0637)\n",
      "0 14000 tensor(0.2019)\n",
      "0 0 tensor(2.3655)\n",
      "0 2000 tensor(0.0532)\n",
      "0 4000 tensor(0.0135)\n",
      "0 6000 tensor(0.2222)\n",
      "0 8000 tensor(0.1249)\n",
      "0 10000 tensor(0.0190)\n",
      "0 12000 tensor(0.4066)\n",
      "0 14000 tensor(0.1201)\n",
      "0 0 tensor(2.3762)\n",
      "0 2000 tensor(2.2605)\n",
      "0 4000 tensor(2.1889)\n",
      "0 6000 tensor(2.1902)\n",
      "0 8000 tensor(2.1217)\n",
      "0 10000 tensor(2.1477)\n",
      "0 12000 tensor(2.0782)\n",
      "0 14000 tensor(2.0347)\n",
      "0 0 tensor(2.3133)\n",
      "0 2000 tensor(0.2420)\n",
      "0 4000 tensor(0.0579)\n",
      "0 6000 tensor(0.2016)\n",
      "0 8000 tensor(0.0874)\n",
      "0 10000 tensor(0.1503)\n",
      "0 12000 tensor(0.0197)\n",
      "0 14000 tensor(0.0837)\n",
      "0 0 tensor(2.2617)\n",
      "0 2000 tensor(0.4605)\n",
      "0 4000 tensor(1.6074)\n",
      "0 6000 tensor(0.0472)\n",
      "0 8000 tensor(0.0002)\n",
      "0 10000 tensor(0.0022)\n",
      "0 12000 tensor(0.0069)\n",
      "0 14000 tensor(0.0812)\n",
      "0 0 tensor(2.3366)\n",
      "0 2000 tensor(2.2644)\n",
      "0 4000 tensor(2.2685)\n",
      "0 6000 tensor(2.2671)\n",
      "0 8000 tensor(2.1223)\n",
      "0 10000 tensor(2.1429)\n",
      "0 12000 tensor(1.9508)\n",
      "0 14000 tensor(2.0069)\n",
      "0 0 tensor(2.2581)\n",
      "0 2000 tensor(0.3197)\n",
      "0 4000 tensor(0.4456)\n",
      "0 6000 tensor(0.0362)\n",
      "0 8000 tensor(0.1116)\n",
      "0 10000 tensor(0.4339)\n",
      "0 12000 tensor(0.0029)\n",
      "0 14000 tensor(1.4913)\n",
      "0 0 tensor(2.1854)\n",
      "0 2000 tensor(0.1325)\n",
      "0 4000 tensor(0.0071)\n",
      "0 6000 tensor(0.1592)\n",
      "0 8000 tensor(0.0006)\n",
      "0 10000 tensor(0.0237)\n",
      "0 12000 tensor(1.4576)\n",
      "0 14000 tensor(0.0148)\n"
     ]
    }
   ],
   "source": [
    "# loss function\n",
    "criterion = nn.CrossEntropyLoss()\n",
    "\n",
    "# initialize scores dataframe\n",
    "scores_df = pd.DataFrame()\n",
    "\n",
    "# loop throuth hyperparameters\n",
    "for neurons in neurons_grid:\n",
    "    for lr in lrs_grid:\n",
    "        \n",
    "        # initialize model\n",
    "        model = SequentialMNIST(neurons)\n",
    "        \n",
    "        # initialize optimizer\n",
    "        optimizer = optim.Adam(model.parameters(), lr=lr)\n",
    "        \n",
    "        # train model\n",
    "        model = train_mnist(model, trainloader_mnist, criterion, optimizer, n_epochs=1)\n",
    "        \n",
    "        # predict on the mnist validation set\n",
    "        y_preds_nn_mnist = val_mnist(model, valloader_mnist)\n",
    "        \n",
    "        # predict on the usps validation set\n",
    "        y_preds_nn_usps = test_usps(model, testloader_usps)\n",
    "        \n",
    "        # compute accuracy\n",
    "        acc_mnist = accuracy_score(y_val_mnist, y_preds_nn_mnist)\n",
    "\n",
    "        acc_usps = accuracy_score(validation_usps_label, y_preds_nn_usps)\n",
    "        \n",
    "        # load scores into dataframe\n",
    "        scores = pd.DataFrame([acc_mnist, acc_usps], index=['acc_mnist', 'acc_usps'], columns=[(neurons, lr)]).T\n",
    "        scores_df = pd.concat([scores_df, scores])\n",
    "        \n",
    "\n",
    "        "
   ]
  },
  {
   "cell_type": "code",
   "execution_count": 50,
   "metadata": {},
   "outputs": [
    {
     "name": "stdout",
     "output_type": "stream",
     "text": [
      "Accuracy with neurons : 16 and learning rate 1e-06 \n",
      " mnist : 0.1751 : usps : 0.13342668533706742\n",
      "Accuracy with neurons : 16 and learning rate 0.0001 \n",
      " mnist : 0.8281 : usps : 0.33296659331866374\n",
      "Accuracy with neurons : 16 and learning rate 0.001 \n",
      " mnist : 0.7566 : usps : 0.38157631526305263\n",
      "Accuracy with neurons : 32 and learning rate 1e-06 \n",
      " mnist : 0.4521 : usps : 0.16168233646729346\n",
      "Accuracy with neurons : 32 and learning rate 0.0001 \n",
      " mnist : 0.8262 : usps : 0.35302060412082414\n",
      "Accuracy with neurons : 32 and learning rate 0.001 \n",
      " mnist : 0.8367 : usps : 0.40023004600920187\n",
      "Accuracy with neurons : 48 and learning rate 1e-06 \n",
      " mnist : 0.4879 : usps : 0.17028405681136227\n",
      "Accuracy with neurons : 48 and learning rate 0.0001 \n",
      " mnist : 0.8503 : usps : 0.35342068413682737\n",
      "Accuracy with neurons : 48 and learning rate 0.001 \n",
      " mnist : 0.8697 : usps : 0.41858371674334865\n",
      "Accuracy with neurons : 64 and learning rate 1e-06 \n",
      " mnist : 0.5436 : usps : 0.1818863772754551\n",
      "Accuracy with neurons : 64 and learning rate 0.0001 \n",
      " mnist : 0.8472 : usps : 0.34966993398679735\n",
      "Accuracy with neurons : 64 and learning rate 0.001 \n",
      " mnist : 0.8579 : usps : 0.44843968793758754\n",
      "Accuracy with neurons : 128 and learning rate 1e-06 \n",
      " mnist : 0.6567 : usps : 0.21329265853170634\n",
      "Accuracy with neurons : 128 and learning rate 0.0001 \n",
      " mnist : 0.8687 : usps : 0.36992398479695937\n",
      "Accuracy with neurons : 128 and learning rate 0.001 \n",
      " mnist : 0.8871 : usps : 0.4655431086217243\n",
      "Accuracy with neurons : 256 and learning rate 1e-06 \n",
      " mnist : 0.7124 : usps : 0.23764752950590118\n",
      "Accuracy with neurons : 256 and learning rate 0.0001 \n",
      " mnist : 0.8695 : usps : 0.3744748949789958\n",
      "Accuracy with neurons : 256 and learning rate 0.001 \n",
      " mnist : 0.8835 : usps : 0.46014202840568114\n"
     ]
    }
   ],
   "source": [
    "# loop through all scores\n",
    "scores_df_str = scores_df.copy(deep=True)\n",
    "scores_df_str.index = scores_df_str.index.map(str)\n",
    "for i in range(scores_df.shape[0]):\n",
    "    params = scores_df.index.values[i]\n",
    "    neurons = params[0]\n",
    "    lr = params[1]\n",
    "    \n",
    "    params_str = scores_df_str.index.values[i]\n",
    "    acc_mnist= scores_df_str.loc[params_str, 'acc_mnist']\n",
    "    acc_usps= scores_df_str.loc[params_str, 'acc_usps']\n",
    "    print('Accuracy with neurons : {} and learning rate {} \\n mnist : {} : usps : {}'.format(neurons, lr, acc_mnist, acc_usps))"
   ]
  },
  {
   "cell_type": "code",
   "execution_count": 51,
   "metadata": {},
   "outputs": [
    {
     "name": "stdout",
     "output_type": "stream",
     "text": [
      "\n",
      "--Training with best hyper-parameters--\n",
      "\n"
     ]
    },
    {
     "name": "stderr",
     "output_type": "stream",
     "text": [
      "C:\\ProgramData\\Anaconda3\\lib\\site-packages\\ipykernel_launcher.py:72: UserWarning: invalid index of a 0-dim tensor. This will be an error in PyTorch 0.5. Use tensor.item() to convert a 0-dim tensor to a Python number\n"
     ]
    },
    {
     "name": "stdout",
     "output_type": "stream",
     "text": [
      "0 0 tensor(2.1998)\n",
      "0 2000 tensor(0.2066)\n",
      "0 4000 tensor(0.0422)\n",
      "0 6000 tensor(0.1642)\n",
      "0 8000 tensor(0.8934)\n",
      "0 10000 tensor(0.0113)\n",
      "0 12000 tensor(0.2810)\n",
      "0 14000 tensor(0.0338)\n"
     ]
    }
   ],
   "source": [
    "best_params = scores_df['acc_mnist'].idxmax()\n",
    "\n",
    "neurons = best_params[0]\n",
    "lr = best_params[1]\n",
    "\n",
    "print('\\n--Training with best hyper-parameters--\\n')\n",
    "\n",
    "# initialize neural network\n",
    "model = SequentialMNIST(neurons)\n",
    "\n",
    "# initialize optimizer\n",
    "optimizer = optim.Adam(model.parameters(), lr=lr)\n",
    "\n",
    "# train the model\n",
    "model = train_mnist(model, trainloader_mnist, criterion, optimizer, n_epochs=1)"
   ]
  },
  {
   "cell_type": "code",
   "execution_count": 52,
   "metadata": {
    "ExecuteTime": {
     "end_time": "2018-11-19T19:07:51.311607Z",
     "start_time": "2018-11-19T19:09:10.023Z"
    }
   },
   "outputs": [],
   "source": [
    "# mnist test set predictions\n",
    "y_preds_nn_mnist = test_mnist(model, testloader_mnist)\n",
    "\n",
    "# mnist test set accuracy\n",
    "acc_mnist = accuracy_score(y_test_mnist, y_preds_nn_mnist)\n",
    "\n",
    "# usps test set predictions\n",
    "y_preds_nn_usps = test_usps(model, testloader_usps)\n",
    "\n",
    "# usps test set accuracy\n",
    "acc_usps = accuracy_score(validation_usps_label, y_preds_nn_usps)"
   ]
  },
  {
   "cell_type": "code",
   "execution_count": 53,
   "metadata": {},
   "outputs": [
    {
     "name": "stdout",
     "output_type": "stream",
     "text": [
      "Accuracy on test set : 0.9654\n",
      "Accuracy on USPS dataset : 0.45424084816963395\n"
     ]
    }
   ],
   "source": [
    "# print out results\n",
    "print('Accuracy on test set : {}'.format(acc_mnist))\n",
    "\n",
    "print('Accuracy on USPS dataset : {}'.format(acc_usps))"
   ]
  },
  {
   "cell_type": "code",
   "execution_count": 54,
   "metadata": {},
   "outputs": [],
   "source": [
    "# get the labels\n",
    "classes = np.unique(y_test_mnist)\n",
    "\n",
    "# mnist confusion matrix\n",
    "cm_mnist = confusion_matrix(y_test_mnist, y_preds_svc_mnist, labels=classes)\n",
    "\n",
    "# usps confusion matrix\n",
    "cm_usps = confusion_matrix(validation_usps_label, y_preds_nn_usps, labels=classes)"
   ]
  },
  {
   "cell_type": "code",
   "execution_count": 55,
   "metadata": {},
   "outputs": [
    {
     "name": "stdout",
     "output_type": "stream",
     "text": [
      "Random Forest Confusion matrix\n"
     ]
    },
    {
     "data": {
      "image/png": "[encoded data removed]",
      "text/plain": [
       "<Figure size 432x288 with 2 Axes>"
      ]
     },
     "metadata": {
      "needs_background": "light"
     },
     "output_type": "display_data"
    },
    {
     "data": {
      "text/plain": [
       "<Figure size 432x288 with 0 Axes>"
      ]
     },
     "metadata": {},
     "output_type": "display_data"
    }
   ],
   "source": [
    "# plot mnist confusion matrix\n",
    "plot_confusion_matrix(cm_mnist, classes, model='Neural Network', cm_path=None)"
   ]
  },
  {
   "cell_type": "code",
   "execution_count": 56,
   "metadata": {
    "ExecuteTime": {
     "end_time": "2018-11-19T19:07:51.313134Z",
     "start_time": "2018-11-19T19:09:10.026Z"
    }
   },
   "outputs": [
    {
     "name": "stdout",
     "output_type": "stream",
     "text": [
      "Random Forest Confusion matrix\n"
     ]
    },
    {
     "data": {
      "image/png": "[encoded data removed]",
      "text/plain": [
       "<Figure size 432x288 with 2 Axes>"
      ]
     },
     "metadata": {
      "needs_background": "light"
     },
     "output_type": "display_data"
    },
    {
     "data": {
      "text/plain": [
       "<Figure size 432x288 with 0 Axes>"
      ]
     },
     "metadata": {},
     "output_type": "display_data"
    }
   ],
   "source": [
    "# plot usps confusion matrix\n",
    "plot_confusion_matrix(cm_usps, classes, model='Neural Network', cm_path=None)"
   ]
  },
  {
   "cell_type": "markdown",
   "metadata": {},
   "source": [
    "### Ensemble classifier (majority voting)"
   ]
  },
  {
   "cell_type": "code",
   "execution_count": 57,
   "metadata": {
    "ExecuteTime": {
     "end_time": "2018-11-19T19:07:51.315514Z",
     "start_time": "2018-11-19T19:09:10.032Z"
    }
   },
   "outputs": [],
   "source": [
    "# merge labels and all model predictions for mnist\n",
    "y_pred_mnist = pd.DataFrame({'label' : y_test_mnist})\n",
    "\n",
    "y_pred_mnist['ranf_mnist'] = y_preds_ranf_mnist.astype(int)\n",
    "y_pred_mnist['svc_mnist'] = y_preds_svc_mnist.astype(int)\n",
    "### For logistic regression\n",
    "y_pred_mnist['logr'] = y_preds_logr_mnist.astype(int)\n",
    "y_pred_mnist['nn_mnist'] = y_preds_nn_mnist.astype(int)\n",
    "\n",
    "y_pred_mnist['prediction_mnist'] = 0\n",
    "y_pred_mnist['prediction_mnist'] = y_pred_mnist.iloc[:, 1:3].mode(axis=1)\n",
    "y_pred_mnist['prediction_mnist'] = y_pred_mnist['prediction_mnist'].astype(int)\n"
   ]
  },
  {
   "cell_type": "code",
   "execution_count": 58,
   "metadata": {
    "ExecuteTime": {
     "end_time": "2018-11-19T19:07:51.316716Z",
     "start_time": "2018-11-19T19:09:10.035Z"
    }
   },
   "outputs": [],
   "source": [
    "# merge labels and all model predictions for usps\n",
    "y_pred_usps = pd.DataFrame({'label_usps' : validation_usps_label})\n",
    "\n",
    "y_pred_usps['ranf_usps'] = y_preds_ranf_usps.astype(int)\n",
    "y_pred_usps['svc_usps'] = y_preds_svc_usps.astype(int)\n",
    "### For logistic regression\n",
    "y_pred_usps['logr_usps'] = y_preds_logr_usps.astype(int)\n",
    "y_pred_usps['nn_usps'] = y_preds_nn_usps.astype(int)\n",
    "\n",
    "y_pred_usps['prediction_usps'] = 0\n",
    "y_pred_usps['prediction_usps'] = y_pred_usps.iloc[:, 1:3].mode(axis=1)\n",
    "y_pred_usps['prediction_usps'] = y_pred_usps['prediction_usps'].astype(int)"
   ]
  },
  {
   "cell_type": "code",
   "execution_count": 59,
   "metadata": {
    "ExecuteTime": {
     "end_time": "2018-11-19T19:07:51.317789Z",
     "start_time": "2018-11-19T19:09:10.037Z"
    }
   },
   "outputs": [
    {
     "name": "stdout",
     "output_type": "stream",
     "text": [
      "Accuracy of ensemble on MNIST test set : 0.9594\n"
     ]
    }
   ],
   "source": [
    "# mnist accuracy\n",
    "acc_mnist = accuracy_score(y_test_mnist, y_pred_mnist['prediction_mnist'])\n",
    "\n",
    "print('Accuracy of ensemble on MNIST test set : {}'.format(acc_mnist))"
   ]
  },
  {
   "cell_type": "code",
   "execution_count": 60,
   "metadata": {
    "ExecuteTime": {
     "end_time": "2018-11-19T19:07:51.318949Z",
     "start_time": "2018-11-19T19:09:10.040Z"
    }
   },
   "outputs": [
    {
     "name": "stdout",
     "output_type": "stream",
     "text": [
      "Accuracy of ensemble on USPS dataset : 0.08021604320864173\n"
     ]
    }
   ],
   "source": [
    "# usps accuracy\n",
    "acc_usps = accuracy_score(validation_usps_label, y_pred_usps['prediction_usps'])\n",
    "\n",
    "print('Accuracy of ensemble on USPS dataset : {}'.format(acc_usps))"
   ]
  },
  {
   "cell_type": "code",
   "execution_count": 61,
   "metadata": {
    "ExecuteTime": {
     "end_time": "2018-11-19T19:07:51.320254Z",
     "start_time": "2018-11-19T19:09:10.043Z"
    }
   },
   "outputs": [],
   "source": [
    "# get the labels\n",
    "classes = np.unique(y_test_mnist)\n",
    "\n",
    "# mnist confusion matrix\n",
    "cm_mnist = confusion_matrix(y_test_mnist, y_pred_mnist['prediction_mnist'], labels=classes)"
   ]
  },
  {
   "cell_type": "code",
   "execution_count": 62,
   "metadata": {},
   "outputs": [
    {
     "name": "stdout",
     "output_type": "stream",
     "text": [
      "Random Forest Confusion matrix\n"
     ]
    },
    {
     "data": {
      "image/png": "[encoded data removed]",
      "text/plain": [
       "<Figure size 432x288 with 2 Axes>"
      ]
     },
     "metadata": {
      "needs_background": "light"
     },
     "output_type": "display_data"
    },
    {
     "data": {
      "text/plain": [
       "<Figure size 432x288 with 0 Axes>"
      ]
     },
     "metadata": {},
     "output_type": "display_data"
    }
   ],
   "source": [
    "# plot mnist confusion matrix\n",
    "plot_confusion_matrix(cm_mnist, classes, model='Ensemble Classifier', cm_path=None)"
   ]
  },
  {
   "cell_type": "code",
   "execution_count": 63,
   "metadata": {
    "ExecuteTime": {
     "end_time": "2018-11-19T19:07:51.321279Z",
     "start_time": "2018-11-19T19:09:10.046Z"
    }
   },
   "outputs": [],
   "source": [
    "# usps confusion matrix\n",
    "cm_usps = confusion_matrix(validation_usps_label, y_pred_usps['prediction_usps'], labels=classes)"
   ]
  },
  {
   "cell_type": "code",
   "execution_count": 64,
   "metadata": {},
   "outputs": [
    {
     "name": "stdout",
     "output_type": "stream",
     "text": [
      "Random Forest Confusion matrix\n"
     ]
    },
    {
     "data": {
      "image/png": "[encoded data removed]",
      "text/plain": [
       "<Figure size 432x288 with 2 Axes>"
      ]
     },
     "metadata": {
      "needs_background": "light"
     },
     "output_type": "display_data"
    },
    {
     "data": {
      "text/plain": [
       "<Figure size 432x288 with 0 Axes>"
      ]
     },
     "metadata": {},
     "output_type": "display_data"
    }
   ],
   "source": [
    "# plot usps confusion matrix\n",
    "plot_confusion_matrix(cm_usps, classes, model='Ensemble Classifier', cm_path=None)"
   ]
  },
  {
   "cell_type": "code",
   "execution_count": null,
   "metadata": {},
   "outputs": [],
   "source": []
  }
 ],
 "metadata": {
  "kernelspec": {
   "display_name": "Python 3",
   "language": "python",
   "name": "python3"
  },
  "language_info": {
   "codemirror_mode": {
    "name": "ipython",
    "version": 3
   },
   "file_extension": ".py",
   "mimetype": "text/x-python",
   "name": "python",
   "nbconvert_exporter": "python",
   "pygments_lexer": "ipython3",
   "version": "3.7.0"
  },
  "varInspector": {
   "cols": {
    "lenName": 16,
    "lenType": 16,
    "lenVar": 40
   },
   "kernels_config": {
    "python": {
     "delete_cmd_postfix": "",
     "delete_cmd_prefix": "del ",
     "library": "var_list.py",
     "varRefreshCmd": "print(var_dic_list())"
    },
    "r": {
     "delete_cmd_postfix": ") ",
     "delete_cmd_prefix": "rm(",
     "library": "var_list.r",
     "varRefreshCmd": "cat(var_dic_list()) "
    }
   },
   "types_to_exclude": [
    "module",
    "function",
    "builtin_function_or_method",
    "instance",
    "_Feature"
   ],
   "window_display": false
  }
 },
 "nbformat": 4,
 "nbformat_minor": 2
}
